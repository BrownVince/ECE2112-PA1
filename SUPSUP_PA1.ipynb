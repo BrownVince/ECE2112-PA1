{
 "cells": [
  {
   "cell_type": "code",
   "execution_count": 79,
   "id": "0f9f8b06-314c-417d-9c1c-8ca97421e328",
   "metadata": {},
   "outputs": [
    {
     "name": "stdin",
     "output_type": "stream",
     "text": [
      "Enter string:  hello\n"
     ]
    },
    {
     "name": "stdout",
     "output_type": "stream",
     "text": [
      "Sorted String:  ehllo\n"
     ]
    }
   ],
   "source": [
    "#ALPHABET SOUP PROBLEM\n",
    "#Create a function that will arrange the letters in alphabetical order\n",
    "def alphabetize(instr):\n",
    "    newstr = \"\"\n",
    "    for letter in instr: #loop the string in order to check if the string consists of alphabets\n",
    "        if(letter.isalpha()):\n",
    "            newstr += letter\n",
    "    instr = newstr.lower() #make the string lower case\n",
    "    sortstr = ''.join(sorted(instr)) #sort the letters\n",
    "    print(\"Sorted String: \", sortstr) #display the results\n",
    "\n",
    "instr = input(\"Enter string: \") #ask user to input string #EXAMPLE: hello\n",
    "alphabetize(instr) #call function"
   ]
  },
  {
   "cell_type": "code",
   "execution_count": 77,
   "id": "7664b684-c18b-4779-bbef-86ec8122a40e",
   "metadata": {},
   "outputs": [
    {
     "name": "stdin",
     "output_type": "stream",
     "text": [
      "Enter sentence:  im sad and mad, so make me Smile and Grin\n"
     ]
    },
    {
     "name": "stdout",
     "output_type": "stream",
     "text": [
      "im :(( and >:(, so make me :) and :D\n"
     ]
    }
   ],
   "source": [
    "#EMOTICON PROBLEM\n",
    "#create a function that will modify the words into emotes\n",
    "def emotify(word):\n",
    "    word = word.replace(\"smile\", \":)\").replace(\"Smile\", \":)\")\n",
    "    word = word.replace(\"sad\", \":((\").replace(\"Sad\", \":((\")\n",
    "    word = word.replace(\"grin\", \":D\").replace(\"Grin\", \":D\")\n",
    "    word = word.replace(\"mad\", \">:(\").replace(\"Mad\", \">:(\")\n",
    "    return word\n",
    "\n",
    "emote = input(\"Enter sentence: \") #ask user to input sentence #EXAMPLE: im sad and mad, so make me Smile and Grin\n",
    "newemote = emotify(emote) #call function and store them in a new variable\n",
    "\n",
    "print(newemote) #display the results"
   ]
  },
  {
   "cell_type": "code",
   "execution_count": 81,
   "id": "8bab723b-4841-4991-b236-f87bfb928638",
   "metadata": {},
   "outputs": [
    {
     "name": "stdout",
     "output_type": "stream",
     "text": [
      "1st:  1\n",
      "Middle:  [2, 3, 4]\n",
      "Last:  5\n"
     ]
    }
   ],
   "source": [
    "#UNPACKING LIST PROBLEM\n",
    "writeyourcodehere = [1, 2, 3, 4, 5] #Declare Values for the list\n",
    "\n",
    "#Print the list using index\n",
    "print(\"1st: \", writeyourcodehere[0])\n",
    "print(\"Middle: \", writeyourcodehere[1:-1])\n",
    "print(\"Last: \", writeyourcodehere[-1])"
   ]
  },
  {
   "cell_type": "code",
   "execution_count": 83,
   "id": "4f639582-bd03-49fe-ab75-32770205f090",
   "metadata": {},
   "outputs": [
    {
     "name": "stdout",
     "output_type": "stream",
     "text": [
      "1st:  1\n",
      "Middle:  2 3 4 \n",
      "Last:  5\n"
     ]
    }
   ],
   "source": [
    "#ALTERNATIVE CODE for UNPACKING LIST PROBLEM\n",
    "writeyourcodehere = [1, 2, 3, 4, 5] #Declare Values for the list\n",
    "\n",
    "print(\"1st: \", writeyourcodehere[0])\n",
    "\n",
    "#using for loop, find the middle elements then print\n",
    "print(\"Middle: \", end=\" \")\n",
    "for i in writeyourcodehere:\n",
    "    if i >= 1 and i < len(writeyourcodehere)-1:\n",
    "        print(writeyourcodehere[i], end=\" \")\n",
    "        \n",
    "print(\"\\nLast: \", writeyourcodehere[-1])"
   ]
  },
  {
   "cell_type": "code",
   "execution_count": null,
   "id": "91fd3f17-c5c9-4e07-bec6-42a61c730975",
   "metadata": {},
   "outputs": [],
   "source": []
  }
 ],
 "metadata": {
  "kernelspec": {
   "display_name": "Python 3 (ipykernel)",
   "language": "python",
   "name": "python3"
  },
  "language_info": {
   "codemirror_mode": {
    "name": "ipython",
    "version": 3
   },
   "file_extension": ".py",
   "mimetype": "text/x-python",
   "name": "python",
   "nbconvert_exporter": "python",
   "pygments_lexer": "ipython3",
   "version": "3.12.4"
  }
 },
 "nbformat": 4,
 "nbformat_minor": 5
}
